{
  "nbformat": 4,
  "nbformat_minor": 0,
  "metadata": {
    "colab": {
      "name": "case4_1_time1.ipynb",
      "provenance": [],
      "authorship_tag": "ABX9TyNbny4MzBlZ1hqABa8Wuy8D",
      "include_colab_link": true
    },
    "kernelspec": {
      "name": "python3",
      "display_name": "Python 3"
    },
    "language_info": {
      "name": "python"
    }
  },
  "cells": [
    {
      "cell_type": "markdown",
      "metadata": {
        "id": "view-in-github",
        "colab_type": "text"
      },
      "source": [
        "<a href=\"https://colab.research.google.com/github/eupshin/bootcamp/blob/main/case4_1_time1.ipynb\" target=\"_parent\"><img src=\"https://colab.research.google.com/assets/colab-badge.svg\" alt=\"Open In Colab\"/></a>"
      ]
    },
    {
      "cell_type": "code",
      "metadata": {
        "id": "bg05ffGNgil-"
      },
      "source": [
        "import numpy as np\n",
        "import pandas as pd\n",
        "import matplotlib.pyplot as plt\n",
        "%matplotlib inline\n",
        "%config InlineBackend.figure_format = 'retina'"
      ],
      "execution_count": 1,
      "outputs": []
    },
    {
      "cell_type": "code",
      "metadata": {
        "id": "vWkRMzl5gpZt"
      },
      "source": [
        "df=pd.read_csv('https://raw.githubusercontent.com/eupshin/bootcamp/main/case4_1_time1.csv')"
      ],
      "execution_count": 2,
      "outputs": []
    },
    {
      "cell_type": "code",
      "metadata": {
        "colab": {
          "base_uri": "https://localhost:8080/",
          "height": 142
        },
        "id": "bqVUiSljgtTz",
        "outputId": "e145e98f-e908-41b6-f6dd-c10edf76cecc"
      },
      "source": [
        "df[:3]"
      ],
      "execution_count": 3,
      "outputs": [
        {
          "output_type": "execute_result",
          "data": {
            "text/html": [
              "<div>\n",
              "<style scoped>\n",
              "    .dataframe tbody tr th:only-of-type {\n",
              "        vertical-align: middle;\n",
              "    }\n",
              "\n",
              "    .dataframe tbody tr th {\n",
              "        vertical-align: top;\n",
              "    }\n",
              "\n",
              "    .dataframe thead th {\n",
              "        text-align: right;\n",
              "    }\n",
              "</style>\n",
              "<table border=\"1\" class=\"dataframe\">\n",
              "  <thead>\n",
              "    <tr style=\"text-align: right;\">\n",
              "      <th></th>\n",
              "      <th>time1</th>\n",
              "      <th>CAPM10</th>\n",
              "      <th>CAPM2.5</th>\n",
              "      <th>CAPM1</th>\n",
              "      <th>RAPM10</th>\n",
              "      <th>RAPM2.5</th>\n",
              "      <th>RAPM1</th>\n",
              "      <th>SAPM10</th>\n",
              "      <th>SAPM2.5</th>\n",
              "      <th>SAPM1</th>\n",
              "    </tr>\n",
              "  </thead>\n",
              "  <tbody>\n",
              "    <tr>\n",
              "      <th>0</th>\n",
              "      <td>2021-03-16 9:02</td>\n",
              "      <td>26.7</td>\n",
              "      <td>17.4</td>\n",
              "      <td>10.0</td>\n",
              "      <td>9.9</td>\n",
              "      <td>8.8</td>\n",
              "      <td>7.5</td>\n",
              "      <td>1.0</td>\n",
              "      <td>1.0</td>\n",
              "      <td>0.7</td>\n",
              "    </tr>\n",
              "    <tr>\n",
              "      <th>1</th>\n",
              "      <td>2021-03-16 9:02</td>\n",
              "      <td>32.1</td>\n",
              "      <td>17.4</td>\n",
              "      <td>10.2</td>\n",
              "      <td>10.2</td>\n",
              "      <td>8.3</td>\n",
              "      <td>7.5</td>\n",
              "      <td>1.6</td>\n",
              "      <td>1.5</td>\n",
              "      <td>0.9</td>\n",
              "    </tr>\n",
              "    <tr>\n",
              "      <th>2</th>\n",
              "      <td>2021-03-16 9:03</td>\n",
              "      <td>34.7</td>\n",
              "      <td>19.5</td>\n",
              "      <td>10.2</td>\n",
              "      <td>8.6</td>\n",
              "      <td>8.6</td>\n",
              "      <td>7.9</td>\n",
              "      <td>1.2</td>\n",
              "      <td>1.2</td>\n",
              "      <td>1.2</td>\n",
              "    </tr>\n",
              "  </tbody>\n",
              "</table>\n",
              "</div>"
            ],
            "text/plain": [
              "             time1  CAPM10  CAPM2.5  CAPM1  ...  RAPM1  SAPM10  SAPM2.5  SAPM1\n",
              "0  2021-03-16 9:02    26.7     17.4   10.0  ...    7.5     1.0      1.0    0.7\n",
              "1  2021-03-16 9:02    32.1     17.4   10.2  ...    7.5     1.6      1.5    0.9\n",
              "2  2021-03-16 9:03    34.7     19.5   10.2  ...    7.9     1.2      1.2    1.2\n",
              "\n",
              "[3 rows x 10 columns]"
            ]
          },
          "metadata": {
            "tags": []
          },
          "execution_count": 3
        }
      ]
    },
    {
      "cell_type": "code",
      "metadata": {
        "id": "mz2YeRWFgtQz"
      },
      "source": [
        "df = df.copy()"
      ],
      "execution_count": 4,
      "outputs": []
    },
    {
      "cell_type": "code",
      "metadata": {
        "colab": {
          "base_uri": "https://localhost:8080/"
        },
        "id": "10DIKuW2grTM",
        "outputId": "ff065893-b0f4-4003-9e98-7e3f12ac2418"
      },
      "source": [
        "df.isnull().sum()"
      ],
      "execution_count": 5,
      "outputs": [
        {
          "output_type": "execute_result",
          "data": {
            "text/plain": [
              "time1      61\n",
              "CAPM10     61\n",
              "CAPM2.5    61\n",
              "CAPM1      61\n",
              "RAPM10     67\n",
              "RAPM2.5    67\n",
              "RAPM1      67\n",
              "SAPM10      0\n",
              "SAPM2.5     0\n",
              "SAPM1       0\n",
              "dtype: int64"
            ]
          },
          "metadata": {
            "tags": []
          },
          "execution_count": 5
        }
      ]
    },
    {
      "cell_type": "code",
      "metadata": {
        "colab": {
          "base_uri": "https://localhost:8080/",
          "height": 222
        },
        "id": "osNgChhPg8NR",
        "outputId": "f204ac02-811f-4b2f-dfec-22fa342978f9"
      },
      "source": [
        "df2 = df.dropna()\n",
        "print(df2.shape)\n",
        "df2[:5]"
      ],
      "execution_count": 6,
      "outputs": [
        {
          "output_type": "stream",
          "text": [
            "(3898, 10)\n"
          ],
          "name": "stdout"
        },
        {
          "output_type": "execute_result",
          "data": {
            "text/html": [
              "<div>\n",
              "<style scoped>\n",
              "    .dataframe tbody tr th:only-of-type {\n",
              "        vertical-align: middle;\n",
              "    }\n",
              "\n",
              "    .dataframe tbody tr th {\n",
              "        vertical-align: top;\n",
              "    }\n",
              "\n",
              "    .dataframe thead th {\n",
              "        text-align: right;\n",
              "    }\n",
              "</style>\n",
              "<table border=\"1\" class=\"dataframe\">\n",
              "  <thead>\n",
              "    <tr style=\"text-align: right;\">\n",
              "      <th></th>\n",
              "      <th>time1</th>\n",
              "      <th>CAPM10</th>\n",
              "      <th>CAPM2.5</th>\n",
              "      <th>CAPM1</th>\n",
              "      <th>RAPM10</th>\n",
              "      <th>RAPM2.5</th>\n",
              "      <th>RAPM1</th>\n",
              "      <th>SAPM10</th>\n",
              "      <th>SAPM2.5</th>\n",
              "      <th>SAPM1</th>\n",
              "    </tr>\n",
              "  </thead>\n",
              "  <tbody>\n",
              "    <tr>\n",
              "      <th>0</th>\n",
              "      <td>2021-03-16 9:02</td>\n",
              "      <td>26.7</td>\n",
              "      <td>17.4</td>\n",
              "      <td>10.0</td>\n",
              "      <td>9.9</td>\n",
              "      <td>8.8</td>\n",
              "      <td>7.5</td>\n",
              "      <td>1.0</td>\n",
              "      <td>1.0</td>\n",
              "      <td>0.7</td>\n",
              "    </tr>\n",
              "    <tr>\n",
              "      <th>1</th>\n",
              "      <td>2021-03-16 9:02</td>\n",
              "      <td>32.1</td>\n",
              "      <td>17.4</td>\n",
              "      <td>10.2</td>\n",
              "      <td>10.2</td>\n",
              "      <td>8.3</td>\n",
              "      <td>7.5</td>\n",
              "      <td>1.6</td>\n",
              "      <td>1.5</td>\n",
              "      <td>0.9</td>\n",
              "    </tr>\n",
              "    <tr>\n",
              "      <th>2</th>\n",
              "      <td>2021-03-16 9:03</td>\n",
              "      <td>34.7</td>\n",
              "      <td>19.5</td>\n",
              "      <td>10.2</td>\n",
              "      <td>8.6</td>\n",
              "      <td>8.6</td>\n",
              "      <td>7.9</td>\n",
              "      <td>1.2</td>\n",
              "      <td>1.2</td>\n",
              "      <td>1.2</td>\n",
              "    </tr>\n",
              "    <tr>\n",
              "      <th>3</th>\n",
              "      <td>2021-03-16 9:03</td>\n",
              "      <td>46.7</td>\n",
              "      <td>19.2</td>\n",
              "      <td>10.7</td>\n",
              "      <td>9.4</td>\n",
              "      <td>8.5</td>\n",
              "      <td>7.4</td>\n",
              "      <td>0.8</td>\n",
              "      <td>0.8</td>\n",
              "      <td>0.8</td>\n",
              "    </tr>\n",
              "    <tr>\n",
              "      <th>4</th>\n",
              "      <td>2021-03-16 9:03</td>\n",
              "      <td>128.6</td>\n",
              "      <td>25.2</td>\n",
              "      <td>11.0</td>\n",
              "      <td>8.9</td>\n",
              "      <td>8.5</td>\n",
              "      <td>7.7</td>\n",
              "      <td>1.0</td>\n",
              "      <td>1.0</td>\n",
              "      <td>1.0</td>\n",
              "    </tr>\n",
              "  </tbody>\n",
              "</table>\n",
              "</div>"
            ],
            "text/plain": [
              "             time1  CAPM10  CAPM2.5  CAPM1  ...  RAPM1  SAPM10  SAPM2.5  SAPM1\n",
              "0  2021-03-16 9:02    26.7     17.4   10.0  ...    7.5     1.0      1.0    0.7\n",
              "1  2021-03-16 9:02    32.1     17.4   10.2  ...    7.5     1.6      1.5    0.9\n",
              "2  2021-03-16 9:03    34.7     19.5   10.2  ...    7.9     1.2      1.2    1.2\n",
              "3  2021-03-16 9:03    46.7     19.2   10.7  ...    7.4     0.8      0.8    0.8\n",
              "4  2021-03-16 9:03   128.6     25.2   11.0  ...    7.7     1.0      1.0    1.0\n",
              "\n",
              "[5 rows x 10 columns]"
            ]
          },
          "metadata": {
            "tags": []
          },
          "execution_count": 6
        }
      ]
    },
    {
      "cell_type": "code",
      "metadata": {
        "colab": {
          "base_uri": "https://localhost:8080/"
        },
        "id": "_2EeRlk8hLzC",
        "outputId": "7e9de116-24ec-4d27-d7a6-0ec94c29418c"
      },
      "source": [
        "df2.isnull().sum()"
      ],
      "execution_count": 7,
      "outputs": [
        {
          "output_type": "execute_result",
          "data": {
            "text/plain": [
              "time1      0\n",
              "CAPM10     0\n",
              "CAPM2.5    0\n",
              "CAPM1      0\n",
              "RAPM10     0\n",
              "RAPM2.5    0\n",
              "RAPM1      0\n",
              "SAPM10     0\n",
              "SAPM2.5    0\n",
              "SAPM1      0\n",
              "dtype: int64"
            ]
          },
          "metadata": {
            "tags": []
          },
          "execution_count": 7
        }
      ]
    },
    {
      "cell_type": "code",
      "metadata": {
        "colab": {
          "base_uri": "https://localhost:8080/",
          "height": 394
        },
        "id": "0TVCRMzphQdq",
        "outputId": "5ebe0d67-3bae-4f53-eff7-8fdb9ede55ab"
      },
      "source": [
        "from sklearn.preprocessing import StandardScaler\n",
        "scale = StandardScaler()\n",
        "df[['CAPM10_sc','CAPM2.5_sc','CAPM1_sc','RAPM10_sc','RAPM2.5_sc','RAPM1_sc','SAPM10_sc','SAPM2.5_sc','SAPM1_sc']]=scale.fit_transform(df[['CAPM10','CAPM2.5','CAPM1','RAPM10','RAPM2.5','RAPM1','SAPM10','SAPM2.5','SAPM1']])\n",
        "df[:5]"
      ],
      "execution_count": 8,
      "outputs": [
        {
          "output_type": "execute_result",
          "data": {
            "text/html": [
              "<div>\n",
              "<style scoped>\n",
              "    .dataframe tbody tr th:only-of-type {\n",
              "        vertical-align: middle;\n",
              "    }\n",
              "\n",
              "    .dataframe tbody tr th {\n",
              "        vertical-align: top;\n",
              "    }\n",
              "\n",
              "    .dataframe thead th {\n",
              "        text-align: right;\n",
              "    }\n",
              "</style>\n",
              "<table border=\"1\" class=\"dataframe\">\n",
              "  <thead>\n",
              "    <tr style=\"text-align: right;\">\n",
              "      <th></th>\n",
              "      <th>time1</th>\n",
              "      <th>CAPM10</th>\n",
              "      <th>CAPM2.5</th>\n",
              "      <th>CAPM1</th>\n",
              "      <th>RAPM10</th>\n",
              "      <th>RAPM2.5</th>\n",
              "      <th>RAPM1</th>\n",
              "      <th>SAPM10</th>\n",
              "      <th>SAPM2.5</th>\n",
              "      <th>SAPM1</th>\n",
              "      <th>CAPM10_sc</th>\n",
              "      <th>CAPM2.5_sc</th>\n",
              "      <th>CAPM1_sc</th>\n",
              "      <th>RAPM10_sc</th>\n",
              "      <th>RAPM2.5_sc</th>\n",
              "      <th>RAPM1_sc</th>\n",
              "      <th>SAPM10_sc</th>\n",
              "      <th>SAPM2.5_sc</th>\n",
              "      <th>SAPM1_sc</th>\n",
              "    </tr>\n",
              "  </thead>\n",
              "  <tbody>\n",
              "    <tr>\n",
              "      <th>0</th>\n",
              "      <td>2021-03-16 9:02</td>\n",
              "      <td>26.7</td>\n",
              "      <td>17.4</td>\n",
              "      <td>10.0</td>\n",
              "      <td>9.9</td>\n",
              "      <td>8.8</td>\n",
              "      <td>7.5</td>\n",
              "      <td>1.0</td>\n",
              "      <td>1.0</td>\n",
              "      <td>0.7</td>\n",
              "      <td>-0.212637</td>\n",
              "      <td>0.333872</td>\n",
              "      <td>0.725624</td>\n",
              "      <td>0.078070</td>\n",
              "      <td>0.160292</td>\n",
              "      <td>0.506899</td>\n",
              "      <td>-0.456928</td>\n",
              "      <td>-0.567741</td>\n",
              "      <td>-0.804233</td>\n",
              "    </tr>\n",
              "    <tr>\n",
              "      <th>1</th>\n",
              "      <td>2021-03-16 9:02</td>\n",
              "      <td>32.1</td>\n",
              "      <td>17.4</td>\n",
              "      <td>10.2</td>\n",
              "      <td>10.2</td>\n",
              "      <td>8.3</td>\n",
              "      <td>7.5</td>\n",
              "      <td>1.6</td>\n",
              "      <td>1.5</td>\n",
              "      <td>0.9</td>\n",
              "      <td>0.046193</td>\n",
              "      <td>0.333872</td>\n",
              "      <td>0.784502</td>\n",
              "      <td>0.119175</td>\n",
              "      <td>0.061372</td>\n",
              "      <td>0.506899</td>\n",
              "      <td>-0.437665</td>\n",
              "      <td>-0.514951</td>\n",
              "      <td>-0.747027</td>\n",
              "    </tr>\n",
              "    <tr>\n",
              "      <th>2</th>\n",
              "      <td>2021-03-16 9:03</td>\n",
              "      <td>34.7</td>\n",
              "      <td>19.5</td>\n",
              "      <td>10.2</td>\n",
              "      <td>8.6</td>\n",
              "      <td>8.6</td>\n",
              "      <td>7.9</td>\n",
              "      <td>1.2</td>\n",
              "      <td>1.2</td>\n",
              "      <td>1.2</td>\n",
              "      <td>0.170815</td>\n",
              "      <td>0.603673</td>\n",
              "      <td>0.784502</td>\n",
              "      <td>-0.100053</td>\n",
              "      <td>0.120724</td>\n",
              "      <td>0.638760</td>\n",
              "      <td>-0.450507</td>\n",
              "      <td>-0.546625</td>\n",
              "      <td>-0.661219</td>\n",
              "    </tr>\n",
              "    <tr>\n",
              "      <th>3</th>\n",
              "      <td>2021-03-16 9:03</td>\n",
              "      <td>46.7</td>\n",
              "      <td>19.2</td>\n",
              "      <td>10.7</td>\n",
              "      <td>9.4</td>\n",
              "      <td>8.5</td>\n",
              "      <td>7.4</td>\n",
              "      <td>0.8</td>\n",
              "      <td>0.8</td>\n",
              "      <td>0.8</td>\n",
              "      <td>0.745992</td>\n",
              "      <td>0.565130</td>\n",
              "      <td>0.931695</td>\n",
              "      <td>0.009561</td>\n",
              "      <td>0.100940</td>\n",
              "      <td>0.473934</td>\n",
              "      <td>-0.463348</td>\n",
              "      <td>-0.588857</td>\n",
              "      <td>-0.775630</td>\n",
              "    </tr>\n",
              "    <tr>\n",
              "      <th>4</th>\n",
              "      <td>2021-03-16 9:03</td>\n",
              "      <td>128.6</td>\n",
              "      <td>25.2</td>\n",
              "      <td>11.0</td>\n",
              "      <td>8.9</td>\n",
              "      <td>8.5</td>\n",
              "      <td>7.7</td>\n",
              "      <td>1.0</td>\n",
              "      <td>1.0</td>\n",
              "      <td>1.0</td>\n",
              "      <td>4.671578</td>\n",
              "      <td>1.335991</td>\n",
              "      <td>1.020012</td>\n",
              "      <td>-0.058948</td>\n",
              "      <td>0.100940</td>\n",
              "      <td>0.572830</td>\n",
              "      <td>-0.456928</td>\n",
              "      <td>-0.567741</td>\n",
              "      <td>-0.718425</td>\n",
              "    </tr>\n",
              "  </tbody>\n",
              "</table>\n",
              "</div>"
            ],
            "text/plain": [
              "             time1  CAPM10  CAPM2.5  ...  SAPM10_sc  SAPM2.5_sc  SAPM1_sc\n",
              "0  2021-03-16 9:02    26.7     17.4  ...  -0.456928   -0.567741 -0.804233\n",
              "1  2021-03-16 9:02    32.1     17.4  ...  -0.437665   -0.514951 -0.747027\n",
              "2  2021-03-16 9:03    34.7     19.5  ...  -0.450507   -0.546625 -0.661219\n",
              "3  2021-03-16 9:03    46.7     19.2  ...  -0.463348   -0.588857 -0.775630\n",
              "4  2021-03-16 9:03   128.6     25.2  ...  -0.456928   -0.567741 -0.718425\n",
              "\n",
              "[5 rows x 19 columns]"
            ]
          },
          "metadata": {
            "tags": []
          },
          "execution_count": 8
        }
      ]
    },
    {
      "cell_type": "code",
      "metadata": {
        "id": "hTuAiY3iiZKl"
      },
      "source": [
        ""
      ],
      "execution_count": null,
      "outputs": []
    }
  ]
}